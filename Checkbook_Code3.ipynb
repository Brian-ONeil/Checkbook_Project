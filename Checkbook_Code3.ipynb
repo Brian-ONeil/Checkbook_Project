{
 "cells": [
  {
   "cell_type": "code",
   "execution_count": null,
   "id": "e51f1e47",
   "metadata": {},
   "outputs": [],
   "source": [
    "import os\n",
    "class Bank:\n",
    "    def __init__(self):\n",
    "        self.name = ''\n",
    "        self.balance_file = 'balance.txt'\n",
    "        self.load_balance()\n",
    "    def welcome(self):\n",
    "        self.name = input('Welcome to your terminal checkbook! Please enter your name: ')\n",
    "    def print_current_balance(self):\n",
    "        print('Your current balance is: {:.2f}'.format(self.total_amount))\n",
    "    def deposit(self):\n",
    "        amount = float(input('Hello {}, please enter the amount to deposit: '.format(self.name)))\n",
    "        self.total_amount += amount\n",
    "        self.save_balance()\n",
    "        self.print_current_balance()\n",
    "    def withdraw(self):\n",
    "        amount = float(input('Hello {}, please enter the amount to withdraw: '.format(self.name)))\n",
    "        if amount > self.total_amount:\n",
    "            print('Insufficient balance!!')\n",
    "        else:\n",
    "            self.total_amount -= amount\n",
    "            self.save_balance()\n",
    "            self.print_current_balance()\n",
    "    def load_balance(self):\n",
    "        if os.path.isfile(self.balance_file):\n",
    "            with open(self.balance_file, 'r') as f:\n",
    "                self.total_amount = float(f.read().strip())\n",
    "        else:\n",
    "            self.total_amount = 0.00\n",
    "    def save_balance(self):\n",
    "        with open(self.balance_file, 'w') as f:\n",
    "            f.write('{:.2f}'.format(self.total_amount))\n",
    "if __name__ == \"__main__\":\n",
    "    bank = Bank()\n",
    "    bank.welcome()\n",
    "    while True:\n",
    "        input_value = int(input('What would you like to do?\\n1. View your current balance\\n2. Record a credit (deposit)\\n3. Record a debit (withdraw)\\n4. Exit\\n'))\n",
    "        if input_value == 1:\n",
    "            bank.print_current_balance()\n",
    "        elif input_value == 2:\n",
    "            bank.deposit()\n",
    "        elif input_value == 3:\n",
    "            bank.withdraw()\n",
    "        elif input_value == 4:\n",
    "            print('Thank you for using your terminal checkbook!')\n",
    "            break\n",
    "        else:\n",
    "            print('Invalid choice') \n"
   ]
  },
  {
   "cell_type": "code",
   "execution_count": null,
   "id": "62b1b596",
   "metadata": {},
   "outputs": [],
   "source": []
  }
 ],
 "metadata": {
  "kernelspec": {
   "display_name": "Python 3 (ipykernel)",
   "language": "python",
   "name": "python3"
  },
  "language_info": {
   "codemirror_mode": {
    "name": "ipython",
    "version": 3
   },
   "file_extension": ".py",
   "mimetype": "text/x-python",
   "name": "python",
   "nbconvert_exporter": "python",
   "pygments_lexer": "ipython3",
   "version": "3.9.13"
  }
 },
 "nbformat": 4,
 "nbformat_minor": 5
}
